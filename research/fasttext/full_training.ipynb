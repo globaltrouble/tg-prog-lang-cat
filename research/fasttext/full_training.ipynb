{
 "cells": [
  {
   "cell_type": "code",
   "execution_count": 1,
   "id": "4d2d53c6-6bc6-46e0-a1dc-eba2f11244e6",
   "metadata": {},
   "outputs": [],
   "source": [
    "import fasttext\n",
    "import pandas as pd\n",
    "import numpy as np\n",
    "import json"
   ]
  },
  {
   "cell_type": "code",
   "execution_count": 3,
   "id": "da36448b-600f-443a-9feb-0d2f3c6b9eef",
   "metadata": {},
   "outputs": [
    {
     "name": "stdout",
     "output_type": "stream",
     "text": [
      "zsh:1: no matches found: nbviewer[webpdf]\n"
     ]
    }
   ],
   "source": [
    "!pip install nbviewer[webpdf]"
   ]
  },
  {
   "cell_type": "code",
   "execution_count": 2,
   "id": "cfefacaf-d225-4ac5-9dfc-f96d0318c5ff",
   "metadata": {},
   "outputs": [],
   "source": [
    "from ascii_preprocessing import preprocess_text_to_ascii, prepare_fasttext_input"
   ]
  },
  {
   "cell_type": "markdown",
   "id": "6e251733-d808-4416-9349-b4b094ce0fc6",
   "metadata": {},
   "source": [
    "# Code/No-Code model"
   ]
  },
  {
   "cell_type": "code",
   "execution_count": 3,
   "id": "dce7cf20-e88c-4baa-a940-13b9f81747b1",
   "metadata": {},
   "outputs": [],
   "source": [
    "LABELS_MAPPING_BINARY = {\n",
    "    \"OTHER\": \"0\",\n",
    "    \"CODE\": \"1\",\n",
    "}"
   ]
  },
  {
   "cell_type": "code",
   "execution_count": 4,
   "id": "b4abaf06-5e2e-426c-9da2-020419ca9bf8",
   "metadata": {},
   "outputs": [],
   "source": [
    "### data loading\n",
    "with open('../tg_dataset_part_2.json', 'r') as f:\n",
    "    data = json.load(f)\n",
    "\n",
    "tg_df = pd.DataFrame(data)\n",
    "tg_df['class_name'] = tg_df['class_name'].str.rstrip('.txt')\n",
    "tg_df['class_name'] = tg_df['class_name'].map(LABELS_MAPPING_BINARY)"
   ]
  },
  {
   "cell_type": "code",
   "execution_count": 5,
   "id": "1442b4ee-8456-4227-aa40-ee9a01115446",
   "metadata": {},
   "outputs": [],
   "source": [
    "tg_df_prepared = tg_df\n",
    "tg_df_prepared['text_cleaned_ascii'] = tg_df['text'].apply(preprocess_text_to_ascii)"
   ]
  },
  {
   "cell_type": "markdown",
   "id": "fb450d4f-194b-4fcb-94e6-3285983ed3e0",
   "metadata": {},
   "source": [
    "# TODO: Separate it to 2 training and validation datasets before - load accordingly"
   ]
  },
  {
   "cell_type": "code",
   "execution_count": 6,
   "id": "386df64e-02be-4de0-a69e-bfef3d3eace1",
   "metadata": {},
   "outputs": [],
   "source": [
    "from sklearn.model_selection import train_test_split\n",
    "\n",
    "train_X, val_X, train_y, val_y = train_test_split(tg_df_prepared['text_cleaned_ascii'], tg_df_prepared['class_name'], random_state=42)"
   ]
  },
  {
   "cell_type": "code",
   "execution_count": 7,
   "id": "115137bc-61ce-4871-aa92-4478a84a140e",
   "metadata": {},
   "outputs": [],
   "source": [
    "train_set = pd.concat([train_X, train_y], axis=1).rename(columns={\"class_name\": \"class\"})\n",
    "val_set = pd.concat([val_X, val_y], axis=1).rename(columns={\"class_name\": \"class\"})"
   ]
  },
  {
   "cell_type": "code",
   "execution_count": 8,
   "id": "45ff2a1c-4215-4c73-b28e-c5dba2d95af7",
   "metadata": {},
   "outputs": [],
   "source": [
    "train_set_path = \"../fasttext/train_set_binary.txt\"\n",
    "val_set_path = \"../fasttext/val_set_binary.txt\""
   ]
  },
  {
   "cell_type": "code",
   "execution_count": 9,
   "id": "73c4af41-a33f-41b8-9b39-b738ec694d5a",
   "metadata": {},
   "outputs": [],
   "source": [
    "prepare_fasttext_input(train_set, train_set_path)\n",
    "prepare_fasttext_input(val_set, val_set_path)"
   ]
  },
  {
   "cell_type": "markdown",
   "id": "57e9386b-5879-46b3-8371-1aaf9c7a238c",
   "metadata": {},
   "source": [
    "### Training itself"
   ]
  },
  {
   "cell_type": "code",
   "execution_count": 14,
   "id": "22a57569-49dc-404e-a2f1-97141b2f026b",
   "metadata": {},
   "outputs": [
    {
     "name": "stderr",
     "output_type": "stream",
     "text": [
      "Progress: 100.0% Trials:   43 Best score:  0.982153 ETA:   0h 0m 0s\n",
      "Training again with best arguments\n",
      "Read 0M words\n",
      "Number of words:  37609\n",
      "Number of labels: 2\n",
      "Progress: 100.0% words/sec/thread: 6435233 lr:  0.000000 avg.loss:  0.006108 ETA:   0h 0m 0s\n",
      "Progress: 100.0% words/sec/thread: 6458555 lr:  0.000000 avg.loss:  0.001022 ETA:   0h 0m 0s\n"
     ]
    }
   ],
   "source": [
    "fasttext_model_binary = fasttext.train_supervised(\n",
    "    input=train_set_path,\n",
    "    thread=8,\n",
    "    autotuneValidationFile=val_set_path,\n",
    "    autotuneDuration=600,\n",
    "    autotuneModelSize='3M'\n",
    ")"
   ]
  },
  {
   "cell_type": "code",
   "execution_count": 26,
   "id": "64906ac5-0a07-4277-9f0c-a896bb80fc6f",
   "metadata": {},
   "outputs": [],
   "source": [
    "# val_set['class'] = '__label__' + val_set['class']"
   ]
  },
  {
   "cell_type": "code",
   "execution_count": 15,
   "id": "44e61bdf-d4ce-4bd9-8d69-f938d19f08c7",
   "metadata": {},
   "outputs": [
    {
     "data": {
      "text/plain": [
       "0.9434152322172651"
      ]
     },
     "execution_count": 15,
     "metadata": {},
     "output_type": "execute_result"
    }
   ],
   "source": [
    "predictions = [fasttext_model_binary.predict(value)[0][0] for value in val_set['text_cleaned_ascii']]\n",
    "\n",
    "from sklearn.metrics import f1_score\n",
    "f1_score(predictions, val_set['class'], average='macro')"
   ]
  },
  {
   "cell_type": "code",
   "execution_count": 16,
   "id": "f34ac96e-5558-4579-9471-c83da5d4e75c",
   "metadata": {},
   "outputs": [],
   "source": [
    "BINARY_MODEL_SAVE_PATH = \"../fasttext/fasttext_model_binary.bin\""
   ]
  },
  {
   "cell_type": "code",
   "execution_count": 17,
   "id": "9abc5802-3463-4c97-8e73-e81509578c14",
   "metadata": {},
   "outputs": [],
   "source": [
    "fasttext_model_binary.save_model(BINARY_MODEL_SAVE_PATH)"
   ]
  },
  {
   "cell_type": "markdown",
   "id": "47f3626b-c7fa-407b-b4bc-695e6c77ced2",
   "metadata": {},
   "source": [
    "# Multiclass model"
   ]
  },
  {
   "cell_type": "code",
   "execution_count": 6,
   "id": "b20abb2b-7e68-4e75-b7ab-9ba03ad1b19b",
   "metadata": {},
   "outputs": [],
   "source": [
    "PART_2_LANGS = [\n",
    "  \"TGLANG_LANGUAGE_C\",\n",
    "  \"TGLANG_LANGUAGE_CPLUSPLUS\",\n",
    "  \"TGLANG_LANGUAGE_CSHARP\",\n",
    "  \"TGLANG_LANGUAGE_CSS\",\n",
    "  \"TGLANG_LANGUAGE_DART\",\n",
    "  \"TGLANG_LANGUAGE_DOCKER\",\n",
    "  \"TGLANG_LANGUAGE_FUNC\",\n",
    "  \"TGLANG_LANGUAGE_GO\",\n",
    "  \"TGLANG_LANGUAGE_HTML\",\n",
    "  \"TGLANG_LANGUAGE_JAVA\",\n",
    "  \"TGLANG_LANGUAGE_JAVASCRIPT\",\n",
    "  \"TGLANG_LANGUAGE_JSON\",\n",
    "  \"TGLANG_LANGUAGE_KOTLIN\",\n",
    "  \"TGLANG_LANGUAGE_LUA\",\n",
    "  \"TGLANG_LANGUAGE_NGINX\",\n",
    "  \"TGLANG_LANGUAGE_OBJECTIVE_C\",\n",
    "  \"TGLANG_LANGUAGE_PHP\",\n",
    "  \"TGLANG_LANGUAGE_POWERSHELL\",\n",
    "  \"TGLANG_LANGUAGE_PYTHON\",\n",
    "  \"TGLANG_LANGUAGE_RUBY\",\n",
    "  \"TGLANG_LANGUAGE_RUST\",\n",
    "  \"TGLANG_LANGUAGE_SHELL\",\n",
    "  \"TGLANG_LANGUAGE_SOLIDITY\",\n",
    "  \"TGLANG_LANGUAGE_SQL\",\n",
    "  \"TGLANG_LANGUAGE_SWIFT\",\n",
    "  \"TGLANG_LANGUAGE_TL\",\n",
    "  \"TGLANG_LANGUAGE_TYPESCRIPT\",\n",
    "  \"TGLANG_LANGUAGE_XML\"\n",
    "]\n",
    "\n",
    "part_2_mappings = {value: str(idx + 1) for idx, value in enumerate(PART_2_LANGS)}\n",
    "reverse_part_2_mappings = {str(idx + 1): value for idx, value in enumerate(PART_2_LANGS)}"
   ]
  },
  {
   "cell_type": "code",
   "execution_count": 7,
   "id": "e93d3e28-8f10-4b26-9f05-6f065cbbf35d",
   "metadata": {},
   "outputs": [
    {
     "data": {
      "text/plain": [
       "{'TGLANG_LANGUAGE_C': '1',\n",
       " 'TGLANG_LANGUAGE_CPLUSPLUS': '2',\n",
       " 'TGLANG_LANGUAGE_CSHARP': '3',\n",
       " 'TGLANG_LANGUAGE_CSS': '4',\n",
       " 'TGLANG_LANGUAGE_DART': '5',\n",
       " 'TGLANG_LANGUAGE_DOCKER': '6',\n",
       " 'TGLANG_LANGUAGE_FUNC': '7',\n",
       " 'TGLANG_LANGUAGE_GO': '8',\n",
       " 'TGLANG_LANGUAGE_HTML': '9',\n",
       " 'TGLANG_LANGUAGE_JAVA': '10',\n",
       " 'TGLANG_LANGUAGE_JAVASCRIPT': '11',\n",
       " 'TGLANG_LANGUAGE_JSON': '12',\n",
       " 'TGLANG_LANGUAGE_KOTLIN': '13',\n",
       " 'TGLANG_LANGUAGE_LUA': '14',\n",
       " 'TGLANG_LANGUAGE_NGINX': '15',\n",
       " 'TGLANG_LANGUAGE_OBJECTIVE_C': '16',\n",
       " 'TGLANG_LANGUAGE_PHP': '17',\n",
       " 'TGLANG_LANGUAGE_POWERSHELL': '18',\n",
       " 'TGLANG_LANGUAGE_PYTHON': '19',\n",
       " 'TGLANG_LANGUAGE_RUBY': '20',\n",
       " 'TGLANG_LANGUAGE_RUST': '21',\n",
       " 'TGLANG_LANGUAGE_SHELL': '22',\n",
       " 'TGLANG_LANGUAGE_SOLIDITY': '23',\n",
       " 'TGLANG_LANGUAGE_SQL': '24',\n",
       " 'TGLANG_LANGUAGE_SWIFT': '25',\n",
       " 'TGLANG_LANGUAGE_TL': '26',\n",
       " 'TGLANG_LANGUAGE_TYPESCRIPT': '27',\n",
       " 'TGLANG_LANGUAGE_XML': '28'}"
      ]
     },
     "execution_count": 7,
     "metadata": {},
     "output_type": "execute_result"
    }
   ],
   "source": [
    "part_2_mappings"
   ]
  },
  {
   "cell_type": "code",
   "execution_count": 8,
   "id": "296214f8-4e22-45f0-8efa-deb976ea212f",
   "metadata": {},
   "outputs": [],
   "source": [
    "train_set_og = pd.read_json('old_full_dataset_train.json')\n",
    "valid_set_og = pd.read_json('old_full_dataset_valid.json')"
   ]
  },
  {
   "cell_type": "code",
   "execution_count": 9,
   "id": "613cde76-4ac7-4da5-a1eb-e93a627ef3ae",
   "metadata": {},
   "outputs": [],
   "source": [
    "train_set = train_set_og[train_set_og['class'].isin(PART_2_LANGS)]\n",
    "valid_set = valid_set_og[valid_set_og['class'].isin(PART_2_LANGS)]"
   ]
  },
  {
   "cell_type": "code",
   "execution_count": 10,
   "id": "c820da59-ad1d-4294-b533-3eb5318ac27d",
   "metadata": {},
   "outputs": [
    {
     "name": "stderr",
     "output_type": "stream",
     "text": [
      "/var/folders/48/0840htmx3sj8ggmt27x29n4m0000gn/T/ipykernel_80500/979453287.py:1: SettingWithCopyWarning: \n",
      "A value is trying to be set on a copy of a slice from a DataFrame.\n",
      "Try using .loc[row_indexer,col_indexer] = value instead\n",
      "\n",
      "See the caveats in the documentation: https://pandas.pydata.org/pandas-docs/stable/user_guide/indexing.html#returning-a-view-versus-a-copy\n",
      "  train_set['class'] = train_set['class'].map(part_2_mappings)\n",
      "/var/folders/48/0840htmx3sj8ggmt27x29n4m0000gn/T/ipykernel_80500/979453287.py:2: SettingWithCopyWarning: \n",
      "A value is trying to be set on a copy of a slice from a DataFrame.\n",
      "Try using .loc[row_indexer,col_indexer] = value instead\n",
      "\n",
      "See the caveats in the documentation: https://pandas.pydata.org/pandas-docs/stable/user_guide/indexing.html#returning-a-view-versus-a-copy\n",
      "  valid_set['class'] = valid_set['class'].map(part_2_mappings)\n"
     ]
    }
   ],
   "source": [
    "train_set['class'] = train_set['class'].map(part_2_mappings)\n",
    "valid_set['class'] = valid_set['class'].map(part_2_mappings)"
   ]
  },
  {
   "cell_type": "code",
   "execution_count": 11,
   "id": "68116673-09a1-4501-943e-523325023434",
   "metadata": {},
   "outputs": [
    {
     "name": "stderr",
     "output_type": "stream",
     "text": [
      "/var/folders/48/0840htmx3sj8ggmt27x29n4m0000gn/T/ipykernel_80500/1942638028.py:1: SettingWithCopyWarning: \n",
      "A value is trying to be set on a copy of a slice from a DataFrame.\n",
      "Try using .loc[row_indexer,col_indexer] = value instead\n",
      "\n",
      "See the caveats in the documentation: https://pandas.pydata.org/pandas-docs/stable/user_guide/indexing.html#returning-a-view-versus-a-copy\n",
      "  train_set['text_cleaned_ascii'] = train_set['text_og'].apply(preprocess_text_to_ascii)\n",
      "/var/folders/48/0840htmx3sj8ggmt27x29n4m0000gn/T/ipykernel_80500/1942638028.py:2: SettingWithCopyWarning: \n",
      "A value is trying to be set on a copy of a slice from a DataFrame.\n",
      "Try using .loc[row_indexer,col_indexer] = value instead\n",
      "\n",
      "See the caveats in the documentation: https://pandas.pydata.org/pandas-docs/stable/user_guide/indexing.html#returning-a-view-versus-a-copy\n",
      "  valid_set['text_cleaned_ascii'] = valid_set['text_og'].apply(preprocess_text_to_ascii)\n"
     ]
    }
   ],
   "source": [
    "train_set['text_cleaned_ascii'] = train_set['text_og'].apply(preprocess_text_to_ascii)\n",
    "valid_set['text_cleaned_ascii'] = valid_set['text_og'].apply(preprocess_text_to_ascii)"
   ]
  },
  {
   "cell_type": "code",
   "execution_count": 12,
   "id": "c6c7e45a-7ad2-4b0c-9f98-f35b682a498c",
   "metadata": {},
   "outputs": [
    {
     "name": "stderr",
     "output_type": "stream",
     "text": [
      "/Users/antonmasiukevich/Desktop/Courses/tgcomp/notebooks/ascii_preprocessing.py:109: SettingWithCopyWarning: \n",
      "A value is trying to be set on a copy of a slice from a DataFrame.\n",
      "Try using .loc[row_indexer,col_indexer] = value instead\n",
      "\n",
      "See the caveats in the documentation: https://pandas.pydata.org/pandas-docs/stable/user_guide/indexing.html#returning-a-view-versus-a-copy\n",
      "  dataframe['class'] = \"__label__\" + dataframe['class']\n"
     ]
    }
   ],
   "source": [
    "train_dataset_path = '../fasttext/train_fasttext_input_28.txt'\n",
    "valid_dataset_path = '../fasttext/valid_fasttext_input_28.txt'\n",
    "\n",
    "prepare_fasttext_input(train_set, train_dataset_path)\n",
    "prepare_fasttext_input(valid_set, valid_dataset_path)"
   ]
  },
  {
   "cell_type": "code",
   "execution_count": 13,
   "id": "fef5fcbc-3ac4-42bf-873e-8150da59e9f6",
   "metadata": {},
   "outputs": [
    {
     "data": {
      "text/html": [
       "<div>\n",
       "<style scoped>\n",
       "    .dataframe tbody tr th:only-of-type {\n",
       "        vertical-align: middle;\n",
       "    }\n",
       "\n",
       "    .dataframe tbody tr th {\n",
       "        vertical-align: top;\n",
       "    }\n",
       "\n",
       "    .dataframe thead th {\n",
       "        text-align: right;\n",
       "    }\n",
       "</style>\n",
       "<table border=\"1\" class=\"dataframe\">\n",
       "  <thead>\n",
       "    <tr style=\"text-align: right;\">\n",
       "      <th></th>\n",
       "      <th>text_cleaned_ascii</th>\n",
       "      <th>text_og</th>\n",
       "      <th>class</th>\n",
       "    </tr>\n",
       "  </thead>\n",
       "  <tbody>\n",
       "    <tr>\n",
       "      <th>3297</th>\n",
       "      <td>/ * &lt;newline&gt; Unless required by applicable l...</td>\n",
       "      <td>/*\\n\\n\\n\\nUnless required by applicable law or...</td>\n",
       "      <td>__label__8</td>\n",
       "    </tr>\n",
       "    <tr>\n",
       "      <th>16865</th>\n",
       "      <td>{ - &lt;newline&gt; TASK &lt;num_int&gt; - Merge hashmaps...</td>\n",
       "      <td>{-\\n\\n  TASK 2 - Merge hashmaps (dictionaries)...</td>\n",
       "      <td>__label__7</td>\n",
       "    </tr>\n",
       "    <tr>\n",
       "      <th>1295</th>\n",
       "      <td>/ / &lt;newline&gt; / / UIViewController + Scrollin...</td>\n",
       "      <td>//\\n//  UIViewController+ScrollingStatusBar.h\\...</td>\n",
       "      <td>__label__1</td>\n",
       "    </tr>\n",
       "    <tr>\n",
       "      <th>3898</th>\n",
       "      <td>/ * &lt;newline&gt; * &lt;newline&gt; * &lt;newline&gt; * &lt;newl...</td>\n",
       "      <td>/*\\n *\\n *\\n *\\n * Unless required by applicab...</td>\n",
       "      <td>__label__10</td>\n",
       "    </tr>\n",
       "    <tr>\n",
       "      <th>3312</th>\n",
       "      <td>/ * &lt;newline&gt; * Tencent is pleased to support...</td>\n",
       "      <td>/*\\n * Tencent is pleased to support the open ...</td>\n",
       "      <td>__label__8</td>\n",
       "    </tr>\n",
       "    <tr>\n",
       "      <th>...</th>\n",
       "      <td>...</td>\n",
       "      <td>...</td>\n",
       "      <td>...</td>\n",
       "    </tr>\n",
       "    <tr>\n",
       "      <th>5051</th>\n",
       "      <td>/ * &lt;newline&gt; &lt;newline&gt; &lt;newline&gt; This file i...</td>\n",
       "      <td>/*\\r\\n  \\r\\n\\r\\n   This file is part of the JU...</td>\n",
       "      <td>__label__16</td>\n",
       "    </tr>\n",
       "    <tr>\n",
       "      <th>2433</th>\n",
       "      <td>import ' package : flutter / material . dart '...</td>\n",
       "      <td>import 'package:flutter/material.dart';\\nimpor...</td>\n",
       "      <td>__label__5</td>\n",
       "    </tr>\n",
       "    <tr>\n",
       "      <th>16850</th>\n",
       "      <td>; ; testable &lt;newline&gt; ( ) recv_internal ( sl...</td>\n",
       "      <td>\\n;; testable\\n() recv_internal(slice in_msg_b...</td>\n",
       "      <td>__label__7</td>\n",
       "    </tr>\n",
       "    <tr>\n",
       "      <th>6265</th>\n",
       "      <td># DO NOT MODIFY . THIS CODE IS GENERATED . CH...</td>\n",
       "      <td>\\n# DO NOT MODIFY. THIS CODE IS GENERATED. CHA...</td>\n",
       "      <td>__label__20</td>\n",
       "    </tr>\n",
       "    <tr>\n",
       "      <th>5390</th>\n",
       "      <td>&lt; ? php &lt;newline&gt; declare ( strict_types = &lt;n...</td>\n",
       "      <td>&lt;?php\\n\\ndeclare (strict_types=1);\\nnamespace ...</td>\n",
       "      <td>__label__17</td>\n",
       "    </tr>\n",
       "  </tbody>\n",
       "</table>\n",
       "<p>2079 rows × 3 columns</p>\n",
       "</div>"
      ],
      "text/plain": [
       "                                      text_cleaned_ascii  \\\n",
       "3297    / * <newline> Unless required by applicable l...   \n",
       "16865   { - <newline> TASK <num_int> - Merge hashmaps...   \n",
       "1295    / / <newline> / / UIViewController + Scrollin...   \n",
       "3898    / * <newline> * <newline> * <newline> * <newl...   \n",
       "3312    / * <newline> * Tencent is pleased to support...   \n",
       "...                                                  ...   \n",
       "5051    / * <newline> <newline> <newline> This file i...   \n",
       "2433   import ' package : flutter / material . dart '...   \n",
       "16850   ; ; testable <newline> ( ) recv_internal ( sl...   \n",
       "6265    # DO NOT MODIFY . THIS CODE IS GENERATED . CH...   \n",
       "5390    < ? php <newline> declare ( strict_types = <n...   \n",
       "\n",
       "                                                 text_og        class  \n",
       "3297   /*\\n\\n\\n\\nUnless required by applicable law or...   __label__8  \n",
       "16865  {-\\n\\n  TASK 2 - Merge hashmaps (dictionaries)...   __label__7  \n",
       "1295   //\\n//  UIViewController+ScrollingStatusBar.h\\...   __label__1  \n",
       "3898   /*\\n *\\n *\\n *\\n * Unless required by applicab...  __label__10  \n",
       "3312   /*\\n * Tencent is pleased to support the open ...   __label__8  \n",
       "...                                                  ...          ...  \n",
       "5051   /*\\r\\n  \\r\\n\\r\\n   This file is part of the JU...  __label__16  \n",
       "2433   import 'package:flutter/material.dart';\\nimpor...   __label__5  \n",
       "16850  \\n;; testable\\n() recv_internal(slice in_msg_b...   __label__7  \n",
       "6265   \\n# DO NOT MODIFY. THIS CODE IS GENERATED. CHA...  __label__20  \n",
       "5390   <?php\\n\\ndeclare (strict_types=1);\\nnamespace ...  __label__17  \n",
       "\n",
       "[2079 rows x 3 columns]"
      ]
     },
     "execution_count": 13,
     "metadata": {},
     "output_type": "execute_result"
    }
   ],
   "source": [
    "train_set"
   ]
  },
  {
   "cell_type": "markdown",
   "id": "6319865f-0135-42e1-9052-72b864534136",
   "metadata": {},
   "source": [
    "### Training itself"
   ]
  },
  {
   "cell_type": "code",
   "execution_count": null,
   "id": "dc487f20-8292-41ac-8a76-5d643d3c1586",
   "metadata": {},
   "outputs": [
    {
     "name": "stderr",
     "output_type": "stream",
     "text": [
      "Progress: 100.0% Trials:   10 Best score:  0.831081 ETA:   0h 0m 0s 74.8% Trials:   10 Best score:  0.831081 ETA:   0h 2m30s"
     ]
    }
   ],
   "source": [
    "model = fasttext.train_supervised(\n",
    "    input=train_dataset_path,\n",
    "    thread=8,\n",
    "    autotuneValidationFile=valid_dataset_path,\n",
    "    autotuneDuration=600,\n",
    "    autotuneModelSize='3M'\n",
    ")"
   ]
  },
  {
   "cell_type": "code",
   "execution_count": null,
   "id": "3f1be592-6e0b-418a-8cda-2db6b8f27384",
   "metadata": {},
   "outputs": [],
   "source": [
    "### evaluation\n",
    "from sklearn.metrics import f1_score, classification_report\n",
    "\n",
    "from tqdm import tqdm\n",
    "\n",
    "predicted = [model.predict(sentence)[0][0] for sentence in tqdm(valid_set.text_cleaned_ascii)]\n",
    "f1_score(valid_set['class'], predicted, average='macro')"
   ]
  },
  {
   "cell_type": "code",
   "execution_count": null,
   "id": "2d1f8cbc-67fd-433a-9b8e-8bf0adaebc0b",
   "metadata": {},
   "outputs": [],
   "source": [
    "report_fasttext = pd.DataFrame(\n",
    "    classification_report(\n",
    "        valid_set['class'].str.lstrip('__label__').map(reverse_part_2_mappings),\n",
    "        pd.Series(predicted).str.lstrip('__label__').map(reverse_part_2_mappings),\n",
    "        output_dict=True\n",
    "    )\n",
    ").T.reset_index()"
   ]
  },
  {
   "cell_type": "code",
   "execution_count": null,
   "id": "d72f6159-22ea-4bb2-a36e-a4bd65dcd950",
   "metadata": {},
   "outputs": [],
   "source": [
    "report_fasttext"
   ]
  },
  {
   "cell_type": "code",
   "execution_count": null,
   "id": "6a8ddbc0-b35f-4ca0-b1a3-f383662c616c",
   "metadata": {},
   "outputs": [],
   "source": [
    "from sklearn.metrics import confusion_matrix, ConfusionMatrixDisplay\n",
    "\n",
    "class_labels = [f\"{label}\" for label in PART_2_LANGS]\n",
    "confusion_matrix_result = confusion_matrix(\n",
    "    valid_set['class'].str.lstrip('__label__').map(reverse_part_2_mappings),\n",
    "    pd.Series(predicted).str.lstrip('__label__').map(reverse_part_2_mappings),\n",
    "    labels=class_labels\n",
    ")"
   ]
  },
  {
   "cell_type": "code",
   "execution_count": null,
   "id": "afa344a6-705e-4be5-904e-8c037c9fcb15",
   "metadata": {},
   "outputs": [],
   "source": [
    "import seaborn as sns\n",
    "import matplotlib.pyplot as plt\n",
    "\n",
    "plt.rcParams['figure.figsize'] = (16, 9)\n",
    "sns.heatmap(confusion_matrix_result, annot=True, fmt=\"d\", cmap=\"Blues\", xticklabels=class_labels, yticklabels=class_labels)\n",
    "plt.xlabel(\"Predicted Label\")\n",
    "plt.ylabel(\"True Label\")\n",
    "plt.show()"
   ]
  },
  {
   "cell_type": "code",
   "execution_count": null,
   "id": "7d2f2067-07cb-48f7-afb0-a9914b74e6d0",
   "metadata": {},
   "outputs": [],
   "source": [
    "model.save_model('../fasttext/multiclass_model_3M.bin')"
   ]
  },
  {
   "cell_type": "code",
   "execution_count": 1,
   "id": "f12a6c6c-9018-4619-9f29-ae4f33dcd24a",
   "metadata": {},
   "outputs": [
    {
     "name": "stdout",
     "output_type": "stream",
     "text": [
      "Collecting pandoc\n",
      "  Downloading pandoc-2.3.tar.gz (33 kB)\n",
      "  Preparing metadata (setup.py) ... \u001b[?25ldone\n",
      "\u001b[?25hCollecting plumbum\n",
      "  Downloading plumbum-1.8.2-py3-none-any.whl (127 kB)\n",
      "\u001b[2K     \u001b[90m━━━━━━━━━━━━━━━━━━━━━━━━━━━━━━━━━━━━━━━\u001b[0m \u001b[32m127.0/127.0 kB\u001b[0m \u001b[31m2.5 MB/s\u001b[0m eta \u001b[36m0:00:00\u001b[0ma \u001b[36m0:00:01\u001b[0m\n",
      "\u001b[?25hCollecting ply\n",
      "  Downloading ply-3.11-py2.py3-none-any.whl (49 kB)\n",
      "\u001b[2K     \u001b[90m━━━━━━━━━━━━━━━━━━━━━━━━━━━━━━━━━━━━━━━━\u001b[0m \u001b[32m49.6/49.6 kB\u001b[0m \u001b[31m4.3 MB/s\u001b[0m eta \u001b[36m0:00:00\u001b[0m\n",
      "\u001b[?25hInstalling collected packages: ply, plumbum, pandoc\n",
      "\u001b[33m  DEPRECATION: pandoc is being installed using the legacy 'setup.py install' method, because it does not have a 'pyproject.toml' and the 'wheel' package is not installed. pip 23.1 will enforce this behaviour change. A possible replacement is to enable the '--use-pep517' option. Discussion can be found at https://github.com/pypa/pip/issues/8559\u001b[0m\u001b[33m\n",
      "\u001b[0m  Running setup.py install for pandoc ... \u001b[?25ldone\n",
      "\u001b[?25hSuccessfully installed pandoc-2.3 plumbum-1.8.2 ply-3.11\n",
      "\n",
      "\u001b[1m[\u001b[0m\u001b[34;49mnotice\u001b[0m\u001b[1;39;49m]\u001b[0m\u001b[39;49m A new release of pip available: \u001b[0m\u001b[31;49m22.3.1\u001b[0m\u001b[39;49m -> \u001b[0m\u001b[32;49m23.3.1\u001b[0m\n",
      "\u001b[1m[\u001b[0m\u001b[34;49mnotice\u001b[0m\u001b[1;39;49m]\u001b[0m\u001b[39;49m To update, run: \u001b[0m\u001b[32;49mpip install --upgrade pip\u001b[0m\n"
     ]
    }
   ],
   "source": [
    "!pip install pandoc"
   ]
  },
  {
   "cell_type": "code",
   "execution_count": null,
   "id": "c30d6325-8407-4de9-bd96-9f5037ef47d9",
   "metadata": {},
   "outputs": [],
   "source": []
  }
 ],
 "metadata": {
  "kernelspec": {
   "display_name": "Python 3 (ipykernel)",
   "language": "python",
   "name": "python3"
  },
  "language_info": {
   "codemirror_mode": {
    "name": "ipython",
    "version": 3
   },
   "file_extension": ".py",
   "mimetype": "text/x-python",
   "name": "python",
   "nbconvert_exporter": "python",
   "pygments_lexer": "ipython3",
   "version": "3.10.10"
  }
 },
 "nbformat": 4,
 "nbformat_minor": 5
}
