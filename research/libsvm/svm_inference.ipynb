{
 "cells": [
  {
   "cell_type": "code",
   "execution_count": 42,
   "id": "982570d1-2918-4c56-8242-0dcae371505c",
   "metadata": {},
   "outputs": [],
   "source": [
    "### Imports\n",
    "import pandas as pd\n",
    "import numpy as np\n",
    "import re2 as re\n",
    "\n",
    "import string\n",
    "\n",
    "from typing import List\n",
    "\n",
    "from libsvm.svmutil import *"
   ]
  },
  {
   "cell_type": "code",
   "execution_count": 43,
   "id": "c353b57f-edfa-43dc-92f8-7e0b9a84e05c",
   "metadata": {},
   "outputs": [],
   "source": [
    "PART_2_LANGS = [\n",
    "  \"TGLANG_LANGUAGE_C\",\n",
    "  \"TGLANG_LANGUAGE_CPLUSPLUS\",\n",
    "  \"TGLANG_LANGUAGE_CSHARP\",\n",
    "  \"TGLANG_LANGUAGE_CSS\",\n",
    "  \"TGLANG_LANGUAGE_DART\",\n",
    "  \"TGLANG_LANGUAGE_DOCKER\",\n",
    "  \"TGLANG_LANGUAGE_FUNC\",\n",
    "  \"TGLANG_LANGUAGE_GO\",\n",
    "  \"TGLANG_LANGUAGE_HTML\",\n",
    "  \"TGLANG_LANGUAGE_JAVA\",\n",
    "  \"TGLANG_LANGUAGE_JAVASCRIPT\",\n",
    "  \"TGLANG_LANGUAGE_JSON\",\n",
    "  \"TGLANG_LANGUAGE_KOTLIN\",\n",
    "  \"TGLANG_LANGUAGE_LUA\",\n",
    "  \"TGLANG_LANGUAGE_NGINX\",\n",
    "  \"TGLANG_LANGUAGE_OBJECTIVE_C\",\n",
    "  \"TGLANG_LANGUAGE_PHP\",\n",
    "  \"TGLANG_LANGUAGE_POWERSHELL\",\n",
    "  \"TGLANG_LANGUAGE_PYTHON\",\n",
    "  \"TGLANG_LANGUAGE_RUBY\",\n",
    "  \"TGLANG_LANGUAGE_RUST\",\n",
    "  \"TGLANG_LANGUAGE_SHELL\",\n",
    "  \"TGLANG_LANGUAGE_SOLIDITY\",\n",
    "  \"TGLANG_LANGUAGE_SQL\",\n",
    "  \"TGLANG_LANGUAGE_SWIFT\",\n",
    "  \"TGLANG_LANGUAGE_TL\",\n",
    "  \"TGLANG_LANGUAGE_TYPESCRIPT\",\n",
    "  \"TGLANG_LANGUAGE_XML\"\n",
    "]\n",
    "\n",
    "part_2_mappings = {value: idx for idx, value in enumerate(PART_2_LANGS)}\n",
    "reverse_part_2_mappings = {idx: value for idx, value in enumerate(PART_2_LANGS)}"
   ]
  },
  {
   "cell_type": "code",
   "execution_count": 44,
   "id": "1de341d0-d79c-4b0e-8b90-5a72468b3f38",
   "metadata": {},
   "outputs": [],
   "source": [
    "### Helper functions and regexes\n",
    "SPECIAL_SYMBOLS_REGEX = r\"([.,;:\\\\\\/{}\\[\\]\\|!\\\"#\\$%&\\'\\(\\)\\*\\+\\-\\<\\=\\>\\?@\\^\\`\\)])\"\n",
    "SPECIAL_SYMBOLS_REGEX_2 = r\"(\\b\\w+\\b|[.,;:\\\\\\/{}\\[\\]\\|!\\\"#\\$%&\\'\\(\\)\\*\\+\\-\\<\\=\\>\\?@\\^\\`\\~)])\"\n",
    "\n",
    "INT_REGEX = \"-?\\d+\"\n",
    "FLOAT_REGEX = \"-?\\d*[.,]\\d+\"\n",
    "HEX_REGEX = \"0[xX]([0-9a-fA-F])+\"\n",
    "OCTAL_REGEX = \"0[oO]([0-7])+\"\n",
    "BINARY_REGEX = \"0[bB]([01])+\"\n",
    "EXP_REGEX = \"-?\\d+[eE]-?\\d+\"\n",
    "\n",
    "config = [\n",
    "    {'regex': BINARY_REGEX, 'change_to': '<num_binary>'},\n",
    "    {'regex': OCTAL_REGEX, 'change_to': '<num_octal>'},\n",
    "    {'regex': HEX_REGEX, 'change_to': '<num_hex>'},\n",
    "    {'regex': EXP_REGEX, 'change_to': '<num_exp>'},\n",
    "    {'regex': FLOAT_REGEX, 'change_to': '<num_float>'},\n",
    "    {'regex': INT_REGEX, 'change_to': '<num_int>'},\n",
    "]\n",
    "\n",
    "\n",
    "\n",
    "def add_spaces(text: str) -> str:\n",
    "    return re.sub(SPECIAL_SYMBOLS_REGEX, r' \\1 ', text)\n",
    "\n",
    "\n",
    "def tokenize(text: str) -> List[str]:\n",
    "    results = re.findall(SPECIAL_SYMBOLS_REGEX_2, text)\n",
    "    return results\n",
    "\n",
    "leave_only_ascii = lambda text: \"\".join([symbol for symbol in text if symbol in string.printable]).strip()\n",
    "\n",
    "\n",
    "def change_nums_to_tokens(config: List, text: str) -> str:\n",
    "\n",
    "    for config_record in config:\n",
    "        text = re.sub(config_record['regex'], config_record['change_to'], text)\n",
    "\n",
    "    return text\n",
    "\n",
    "\n",
    "def preprocess_text_to_ascii(text: str) -> List[str]:\n",
    "\n",
    "    # assert all([column in df.columns for column in [\"text\"]])\n",
    "    text =  leave_only_ascii(text)\n",
    "    text = add_spaces(text)\n",
    "    text = change_nums_to_tokens(config, text)\n",
    "    \n",
    "    string_arr = tokenize(text)\n",
    "    \n",
    "    return string_arr\n",
    "\n",
    "from typing import Dict, List, Tuple\n",
    "def generate_vector(words: List[str], tfidf_mapping: Dict[str, Tuple[float, int]]) -> List[float]:\n",
    "\n",
    "    n_len_vector = len(tfidf_mapping)\n",
    "    vector = np.zeros(n_len_vector) # = [0 for _ in range(n_len_vector)]\n",
    "    for word in words:\n",
    "        tuple_to_unpack = tfidf_mapping.get(word)\n",
    "        if tuple_to_unpack:\n",
    "            tf_idf_val, idx = tuple_to_unpack\n",
    "            if vector[idx] == 0:\n",
    "                vector[idx] = tf_idf_val\n",
    "            else:\n",
    "                vector[idx] += tf_idf_val\n",
    "\n",
    "    return vector\n",
    "\n",
    "def make_tfidf_mapping(tfidf_trained):\n",
    "    return {\n",
    "        token: (value, idx) for idx, (token, value) in enumerate(zip(tfidf_trained.get_feature_names_out(), tfidf_trained.idf_))\n",
    "    }\n"
   ]
  },
  {
   "cell_type": "code",
   "execution_count": 45,
   "id": "782c975a-4563-4548-a220-59e6d045e622",
   "metadata": {},
   "outputs": [
    {
     "data": {
      "text/plain": [
       "['<', 'num_int', '>']"
      ]
     },
     "execution_count": 45,
     "metadata": {},
     "output_type": "execute_result"
    }
   ],
   "source": [
    "preprocess_text_to_ascii(\"<num_int>\")"
   ]
  },
  {
   "cell_type": "code",
   "execution_count": 47,
   "id": "bf68a15e-ae38-49f6-979d-0ba11cc7ea9a",
   "metadata": {},
   "outputs": [],
   "source": [
    "### load tfidf and svm\n",
    "import json\n",
    "\n",
    "TFIDF_PATH = \"tfifd_mapping_ascii_p2.json\"\n",
    "MODEL_PATH = \"model_libsvm_ascii_2.model\"\n",
    "\n",
    "\n",
    "# reverse_class_mapping = {value: idx for idx, value in class_mapping.items()}\n",
    "\n",
    "\n",
    "with open(TFIDF_PATH) as f:\n",
    "    mapping = json.load(f)\n",
    "\n",
    "\n",
    "model = svm_load_model(MODEL_PATH)"
   ]
  },
  {
   "cell_type": "code",
   "execution_count": null,
   "id": "cee4d3dd-ce1d-4f21-96f1-264b81cf9520",
   "metadata": {},
   "outputs": [],
   "source": []
  },
  {
   "cell_type": "code",
   "execution_count": 48,
   "id": "5764bcc6-257c-415c-aa8e-5bbeef191795",
   "metadata": {},
   "outputs": [
    {
     "name": "stdout",
     "output_type": "stream",
     "text": [
      "Accuracy = 0% (0/1) (classification)\n",
      "TGLANG_LANGUAGE_ADA\n"
     ]
    }
   ],
   "source": [
    "# inference\n",
    "inference_string = \"\"\"\n",
    "public static void main(String[] args) {\n",
    "    System.out.println(\"Hello, World!\");\n",
    "}\n",
    "\"\"\"\n",
    "\n",
    "prepared_tokens = preprocess_text_to_ascii(inference_string)\n",
    "vector = [generate_vector(prepared_tokens, mapping)]\n",
    "label, _, _ = svm_predict(y=[1], x=vector, m=model)\n",
    "label_pred = int(label[0])\n",
    "label_lang = reverse_class_mapping.get(label_pred)\n",
    "\n",
    "print(label_lang)"
   ]
  },
  {
   "cell_type": "code",
   "execution_count": null,
   "id": "a49bb4e7-3004-4b80-8dec-f9b974b831f9",
   "metadata": {},
   "outputs": [],
   "source": []
  },
  {
   "cell_type": "code",
   "execution_count": null,
   "id": "b950cd6b-8926-42c7-9db1-31ed469327c8",
   "metadata": {},
   "outputs": [],
   "source": []
  },
  {
   "cell_type": "code",
   "execution_count": null,
   "id": "795dc67d-40f8-4639-833a-709201ab49f2",
   "metadata": {},
   "outputs": [],
   "source": []
  },
  {
   "cell_type": "code",
   "execution_count": null,
   "id": "fe74938f-f840-4f57-a8e1-79de8e87ed48",
   "metadata": {},
   "outputs": [],
   "source": []
  },
  {
   "cell_type": "code",
   "execution_count": null,
   "id": "d4f2f648-880c-4be3-959b-9ad92a809b33",
   "metadata": {},
   "outputs": [],
   "source": []
  }
 ],
 "metadata": {
  "kernelspec": {
   "display_name": "Python 3 (ipykernel)",
   "language": "python",
   "name": "python3"
  },
  "language_info": {
   "codemirror_mode": {
    "name": "ipython",
    "version": 3
   },
   "file_extension": ".py",
   "mimetype": "text/x-python",
   "name": "python",
   "nbconvert_exporter": "python",
   "pygments_lexer": "ipython3",
   "version": "3.10.10"
  }
 },
 "nbformat": 4,
 "nbformat_minor": 5
}
